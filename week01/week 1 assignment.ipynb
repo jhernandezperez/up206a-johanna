{
 "cells": [
  {
   "cell_type": "markdown",
   "id": "9a65b580-3590-4c85-b9f7-56f97dfef049",
   "metadata": {},
   "source": [
    "Exploring dataset"
   ]
  },
  {
   "cell_type": "code",
   "execution_count": 1,
   "id": "abc0f5fd-1d75-4e0d-8669-1d6d081e09d3",
   "metadata": {
    "tags": []
   },
   "outputs": [
    {
     "name": "stderr",
     "output_type": "stream",
     "text": [
      "/opt/conda/lib/python3.9/site-packages/geopandas/_compat.py:106: UserWarning: The Shapely GEOS version (3.9.1-CAPI-1.14.2) is incompatible with the GEOS version PyGEOS was compiled with (3.10.1-CAPI-1.16.0). Conversions between both will be slow.\n",
      "  warnings.warn(\n"
     ]
    }
   ],
   "source": [
    "import geopandas as gpd"
   ]
  },
  {
   "cell_type": "code",
   "execution_count": 4,
   "id": "595792c3-e323-4671-8097-e8d898382eb8",
   "metadata": {
    "tags": []
   },
   "outputs": [],
   "source": [
    "#read and add shapefile to notebook\n",
    "islands = gpd.read_file('island_areas.csv')"
   ]
  },
  {
   "cell_type": "code",
   "execution_count": 5,
   "id": "92ed89a1-eef4-4de9-bd2c-efee01c88996",
   "metadata": {},
   "outputs": [
    {
     "data": {
      "text/plain": [
       "geopandas.geodataframe.GeoDataFrame"
      ]
     },
     "execution_count": 5,
     "metadata": {},
     "output_type": "execute_result"
    }
   ],
   "source": [
    "#what's the type of data?\n",
    "type(islands)"
   ]
  },
  {
   "cell_type": "code",
   "execution_count": 6,
   "id": "a58e30f0-5cdd-4d2d-9c2d-9adf9996acf1",
   "metadata": {},
   "outputs": [
    {
     "data": {
      "text/html": [
       "<div>\n",
       "<style scoped>\n",
       "    .dataframe tbody tr th:only-of-type {\n",
       "        vertical-align: middle;\n",
       "    }\n",
       "\n",
       "    .dataframe tbody tr th {\n",
       "        vertical-align: top;\n",
       "    }\n",
       "\n",
       "    .dataframe thead th {\n",
       "        text-align: right;\n",
       "    }\n",
       "</style>\n",
       "<table border=\"1\" class=\"dataframe\">\n",
       "  <thead>\n",
       "    <tr style=\"text-align: right;\">\n",
       "      <th></th>\n",
       "      <th>GEO_ID</th>\n",
       "      <th>id</th>\n",
       "      <th>geometry</th>\n",
       "    </tr>\n",
       "  </thead>\n",
       "  <tbody>\n",
       "    <tr>\n",
       "      <th>0</th>\n",
       "      <td>NAME</td>\n",
       "      <td>Geographic Area Name</td>\n",
       "      <td>None</td>\n",
       "    </tr>\n",
       "    <tr>\n",
       "      <th>1</th>\n",
       "      <td>GEO_ID_F</td>\n",
       "      <td>Geo Footnote</td>\n",
       "      <td>None</td>\n",
       "    </tr>\n",
       "    <tr>\n",
       "      <th>2</th>\n",
       "      <td>NAICS2017</td>\n",
       "      <td>2017 NAICS code</td>\n",
       "      <td>None</td>\n",
       "    </tr>\n",
       "    <tr>\n",
       "      <th>3</th>\n",
       "      <td>NAICS2017_LABEL</td>\n",
       "      <td>Meaning of NAICS code</td>\n",
       "      <td>None</td>\n",
       "    </tr>\n",
       "    <tr>\n",
       "      <th>4</th>\n",
       "      <td>NAICS2017_F</td>\n",
       "      <td>2017 NAICS Footnote</td>\n",
       "      <td>None</td>\n",
       "    </tr>\n",
       "  </tbody>\n",
       "</table>\n",
       "</div>"
      ],
      "text/plain": [
       "            GEO_ID                     id geometry\n",
       "0             NAME   Geographic Area Name     None\n",
       "1         GEO_ID_F           Geo Footnote     None\n",
       "2        NAICS2017        2017 NAICS code     None\n",
       "3  NAICS2017_LABEL  Meaning of NAICS code     None\n",
       "4      NAICS2017_F    2017 NAICS Footnote     None"
      ]
     },
     "execution_count": 6,
     "metadata": {},
     "output_type": "execute_result"
    }
   ],
   "source": [
    "#what does the data look like?\n",
    "islands.head()"
   ]
  },
  {
   "cell_type": "code",
   "execution_count": 7,
   "id": "fe44ed99-9a20-4009-8621-80b3abe1e594",
   "metadata": {},
   "outputs": [
    {
     "data": {
      "text/html": [
       "<div>\n",
       "<style scoped>\n",
       "    .dataframe tbody tr th:only-of-type {\n",
       "        vertical-align: middle;\n",
       "    }\n",
       "\n",
       "    .dataframe tbody tr th {\n",
       "        vertical-align: top;\n",
       "    }\n",
       "\n",
       "    .dataframe thead th {\n",
       "        text-align: right;\n",
       "    }\n",
       "</style>\n",
       "<table border=\"1\" class=\"dataframe\">\n",
       "  <thead>\n",
       "    <tr style=\"text-align: right;\">\n",
       "      <th></th>\n",
       "      <th>GEO_ID</th>\n",
       "      <th>id</th>\n",
       "      <th>geometry</th>\n",
       "    </tr>\n",
       "  </thead>\n",
       "  <tbody>\n",
       "    <tr>\n",
       "      <th>18</th>\n",
       "      <td>EMP_N</td>\n",
       "      <td>Noise range for number of employees</td>\n",
       "      <td>None</td>\n",
       "    </tr>\n",
       "    <tr>\n",
       "      <th>19</th>\n",
       "      <td>OPEX</td>\n",
       "      <td>Operating expenses ($1,000)</td>\n",
       "      <td>None</td>\n",
       "    </tr>\n",
       "    <tr>\n",
       "      <th>20</th>\n",
       "      <td>OPEX_N</td>\n",
       "      <td>Noise range for operating expenses</td>\n",
       "      <td>None</td>\n",
       "    </tr>\n",
       "    <tr>\n",
       "      <th>21</th>\n",
       "      <td>INVTOTB</td>\n",
       "      <td>Total inventories, beginning of year ($1,000)</td>\n",
       "      <td>None</td>\n",
       "    </tr>\n",
       "    <tr>\n",
       "      <th>22</th>\n",
       "      <td>INVTOTB_N</td>\n",
       "      <td>Noise range for total inventories, beginning o...</td>\n",
       "      <td>None</td>\n",
       "    </tr>\n",
       "    <tr>\n",
       "      <th>23</th>\n",
       "      <td>INVTOTE</td>\n",
       "      <td>Total inventories, end of year ($1,000)</td>\n",
       "      <td>None</td>\n",
       "    </tr>\n",
       "    <tr>\n",
       "      <th>24</th>\n",
       "      <td>INVTOTE_N</td>\n",
       "      <td>Noise range for total inventories, end of year</td>\n",
       "      <td>None</td>\n",
       "    </tr>\n",
       "    <tr>\n",
       "      <th>25</th>\n",
       "      <td>RCPTOT_IMP</td>\n",
       "      <td>Range indicating percent of total sales, value...</td>\n",
       "      <td>None</td>\n",
       "    </tr>\n",
       "    <tr>\n",
       "      <th>26</th>\n",
       "      <td>PAYANN_IMP</td>\n",
       "      <td>Range indicating percent of total annual payro...</td>\n",
       "      <td>None</td>\n",
       "    </tr>\n",
       "    <tr>\n",
       "      <th>27</th>\n",
       "      <td>EMP_IMP</td>\n",
       "      <td>Range indicating percent of total employees im...</td>\n",
       "      <td>None</td>\n",
       "    </tr>\n",
       "  </tbody>\n",
       "</table>\n",
       "</div>"
      ],
      "text/plain": [
       "        GEO_ID                                                 id geometry\n",
       "18       EMP_N                Noise range for number of employees     None\n",
       "19        OPEX                        Operating expenses ($1,000)     None\n",
       "20      OPEX_N                Noise range for operating expenses      None\n",
       "21     INVTOTB      Total inventories, beginning of year ($1,000)     None\n",
       "22   INVTOTB_N  Noise range for total inventories, beginning o...     None\n",
       "23     INVTOTE            Total inventories, end of year ($1,000)     None\n",
       "24   INVTOTE_N    Noise range for total inventories, end of year      None\n",
       "25  RCPTOT_IMP  Range indicating percent of total sales, value...     None\n",
       "26  PAYANN_IMP  Range indicating percent of total annual payro...     None\n",
       "27     EMP_IMP  Range indicating percent of total employees im...     None"
      ]
     },
     "execution_count": 7,
     "metadata": {},
     "output_type": "execute_result"
    }
   ],
   "source": [
    "#try tail()\n",
    "islands.tail(10)"
   ]
  },
  {
   "cell_type": "code",
   "execution_count": 8,
   "id": "bdf5d5ec-301a-4f9e-a894-f099c60ac1c5",
   "metadata": {},
   "outputs": [
    {
     "data": {
      "text/html": [
       "<div>\n",
       "<style scoped>\n",
       "    .dataframe tbody tr th:only-of-type {\n",
       "        vertical-align: middle;\n",
       "    }\n",
       "\n",
       "    .dataframe tbody tr th {\n",
       "        vertical-align: top;\n",
       "    }\n",
       "\n",
       "    .dataframe thead th {\n",
       "        text-align: right;\n",
       "    }\n",
       "</style>\n",
       "<table border=\"1\" class=\"dataframe\">\n",
       "  <thead>\n",
       "    <tr style=\"text-align: right;\">\n",
       "      <th></th>\n",
       "      <th>GEO_ID</th>\n",
       "      <th>id</th>\n",
       "      <th>geometry</th>\n",
       "    </tr>\n",
       "  </thead>\n",
       "  <tbody>\n",
       "    <tr>\n",
       "      <th>18</th>\n",
       "      <td>EMP_N</td>\n",
       "      <td>Noise range for number of employees</td>\n",
       "      <td>None</td>\n",
       "    </tr>\n",
       "    <tr>\n",
       "      <th>21</th>\n",
       "      <td>INVTOTB</td>\n",
       "      <td>Total inventories, beginning of year ($1,000)</td>\n",
       "      <td>None</td>\n",
       "    </tr>\n",
       "  </tbody>\n",
       "</table>\n",
       "</div>"
      ],
      "text/plain": [
       "     GEO_ID                                             id geometry\n",
       "18    EMP_N            Noise range for number of employees     None\n",
       "21  INVTOTB  Total inventories, beginning of year ($1,000)     None"
      ]
     },
     "execution_count": 8,
     "metadata": {},
     "output_type": "execute_result"
    }
   ],
   "source": [
    "#try sample()\n",
    "islands.sample(2)"
   ]
  },
  {
   "cell_type": "code",
   "execution_count": 9,
   "id": "e150fbb7-1f3e-4b44-8508-a7495b6cc89c",
   "metadata": {},
   "outputs": [
    {
     "data": {
      "text/html": [
       "<div>\n",
       "<style scoped>\n",
       "    .dataframe tbody tr th:only-of-type {\n",
       "        vertical-align: middle;\n",
       "    }\n",
       "\n",
       "    .dataframe tbody tr th {\n",
       "        vertical-align: top;\n",
       "    }\n",
       "\n",
       "    .dataframe thead th {\n",
       "        text-align: right;\n",
       "    }\n",
       "</style>\n",
       "<table border=\"1\" class=\"dataframe\">\n",
       "  <thead>\n",
       "    <tr style=\"text-align: right;\">\n",
       "      <th></th>\n",
       "      <th>GEO_ID</th>\n",
       "      <th>id</th>\n",
       "      <th>geometry</th>\n",
       "    </tr>\n",
       "  </thead>\n",
       "  <tbody>\n",
       "    <tr>\n",
       "      <th>25</th>\n",
       "      <td>RCPTOT_IMP</td>\n",
       "      <td>Range indicating percent of total sales, value...</td>\n",
       "      <td>None</td>\n",
       "    </tr>\n",
       "    <tr>\n",
       "      <th>19</th>\n",
       "      <td>OPEX</td>\n",
       "      <td>Operating expenses ($1,000)</td>\n",
       "      <td>None</td>\n",
       "    </tr>\n",
       "    <tr>\n",
       "      <th>18</th>\n",
       "      <td>EMP_N</td>\n",
       "      <td>Noise range for number of employees</td>\n",
       "      <td>None</td>\n",
       "    </tr>\n",
       "  </tbody>\n",
       "</table>\n",
       "</div>"
      ],
      "text/plain": [
       "        GEO_ID                                                 id geometry\n",
       "25  RCPTOT_IMP  Range indicating percent of total sales, value...     None\n",
       "19        OPEX                        Operating expenses ($1,000)     None\n",
       "18       EMP_N                Noise range for number of employees     None"
      ]
     },
     "execution_count": 9,
     "metadata": {},
     "output_type": "execute_result"
    }
   ],
   "source": [
    "islands.sample(3)"
   ]
  },
  {
   "cell_type": "code",
   "execution_count": 10,
   "id": "31974823-f60b-425b-9d16-5556d1ddcf4b",
   "metadata": {},
   "outputs": [
    {
     "data": {
      "text/plain": [
       "GEO_ID        object\n",
       "id            object\n",
       "geometry    geometry\n",
       "dtype: object"
      ]
     },
     "execution_count": 10,
     "metadata": {},
     "output_type": "execute_result"
    }
   ],
   "source": [
    "islands.dtypes"
   ]
  },
  {
   "cell_type": "markdown",
   "id": "73170752-fb21-45f9-9d7a-20f725efc982",
   "metadata": {},
   "source": [
    "#geometry is a good one! Tells us this has GIS data"
   ]
  },
  {
   "cell_type": "code",
   "execution_count": 11,
   "id": "6597de7a-9ca8-4620-995e-0856ed4fab8b",
   "metadata": {},
   "outputs": [
    {
     "name": "stdout",
     "output_type": "stream",
     "text": [
      "<class 'geopandas.geodataframe.GeoDataFrame'>\n",
      "RangeIndex: 28 entries, 0 to 27\n",
      "Data columns (total 3 columns):\n",
      " #   Column    Non-Null Count  Dtype   \n",
      "---  ------    --------------  -----   \n",
      " 0   GEO_ID    28 non-null     object  \n",
      " 1   id        28 non-null     object  \n",
      " 2   geometry  0 non-null      geometry\n",
      "dtypes: geometry(1), object(2)\n",
      "memory usage: 800.0+ bytes\n"
     ]
    }
   ],
   "source": [
    "#dataframe info \n",
    "islands.info()"
   ]
  },
  {
   "cell_type": "code",
   "execution_count": 15,
   "id": "ccffe276-baa3-4d0a-b87c-38fda70464d2",
   "metadata": {},
   "outputs": [
    {
     "data": {
      "text/plain": [
       "(28, 3)"
      ]
     },
     "execution_count": 15,
     "metadata": {},
     "output_type": "execute_result"
    }
   ],
   "source": [
    "#How many rows and columns?\n",
    "islands.shape"
   ]
  },
  {
   "cell_type": "code",
   "execution_count": 13,
   "id": "41474a22-8d68-4d21-931c-b7ad85f2f8ef",
   "metadata": {},
   "outputs": [
    {
     "data": {
      "text/plain": [
       "['GEO_ID', 'id', 'geometry']"
      ]
     },
     "execution_count": 13,
     "metadata": {},
     "output_type": "execute_result"
    }
   ],
   "source": [
    "#what are the columns?\n",
    "islands.columns.to_list()"
   ]
  },
  {
   "cell_type": "code",
   "execution_count": 14,
   "id": "7c6422dc-9dba-4b6a-b2e2-9dd775bc7810",
   "metadata": {},
   "outputs": [
    {
     "data": {
      "text/plain": [
       "16    BENVOL_N\n",
       "21     INVTOTB\n",
       "Name: GEO_ID, dtype: object"
      ]
     },
     "execution_count": 14,
     "metadata": {},
     "output_type": "execute_result"
    }
   ],
   "source": [
    "#single column\n",
    "islands['GEO_ID'].sample(2)"
   ]
  },
  {
   "cell_type": "code",
   "execution_count": 16,
   "id": "7c9057e0-5352-4eec-9794-0ddede030672",
   "metadata": {},
   "outputs": [
    {
     "data": {
      "text/plain": [
       "NAME               1\n",
       "GEO_ID_F           1\n",
       "PAYANN_IMP         1\n",
       "RCPTOT_IMP         1\n",
       "INVTOTE_N          1\n",
       "INVTOTE            1\n",
       "INVTOTB_N          1\n",
       "INVTOTB            1\n",
       "OPEX_N             1\n",
       "OPEX               1\n",
       "EMP_N              1\n",
       "EMP                1\n",
       "BENVOL_N           1\n",
       "BENVOL             1\n",
       "BENLGL_N           1\n",
       "BENLGL             1\n",
       "PAYQTR1_N          1\n",
       "PAYQTR1            1\n",
       "PAYANN_N           1\n",
       "PAYANN             1\n",
       "RCPTOT_N           1\n",
       "RCPTOT             1\n",
       "ESTAB              1\n",
       "YEAR               1\n",
       "NAICS2017_F        1\n",
       "NAICS2017_LABEL    1\n",
       "NAICS2017          1\n",
       "EMP_IMP            1\n",
       "Name: GEO_ID, dtype: int64"
      ]
     },
     "execution_count": 16,
     "metadata": {},
     "output_type": "execute_result"
    }
   ],
   "source": [
    "#counting\n",
    "islands['GEO_ID'].value_counts()"
   ]
  },
  {
   "cell_type": "markdown",
   "id": "73494de9-da07-47f9-af39-49ce1073ac20",
   "metadata": {},
   "source": [
    "Just realized at this point that I should include markdowns for each outcome I get! Sorry! I will explain all I have ran so far here.\n",
    "[1] import= I am importing geopandas, a module that allows us to run maps?\n",
    "[4] islands= I am adding my data here.\n",
    "[5] type= this lets me see my data.\n",
    "[6] islands.head=this gives me an overview of my data\n",
    "[8] islands.sample= everytime I run this, it will give me random items\n",
    "[10] island.dtype= data type. I have a geometry, which is great because it means I have GIS data!\n",
    "[11] this gives me the amount of content i have?\n",
    "[15] gives me how many rows and columns. This is a small data set with only 3 columns.\n",
    "[16] gives me the values?"
   ]
  },
  {
   "cell_type": "code",
   "execution_count": 17,
   "id": "01bf95a7-a9d9-4bf2-9ffc-77378d1f737e",
   "metadata": {},
   "outputs": [
    {
     "data": {
      "text/plain": [
       "NAME               1\n",
       "GEO_ID_F           1\n",
       "PAYANN_IMP         1\n",
       "RCPTOT_IMP         1\n",
       "INVTOTE_N          1\n",
       "INVTOTE            1\n",
       "INVTOTB_N          1\n",
       "INVTOTB            1\n",
       "OPEX_N             1\n",
       "OPEX               1\n",
       "EMP_N              1\n",
       "EMP                1\n",
       "BENVOL_N           1\n",
       "BENVOL             1\n",
       "BENLGL_N           1\n",
       "BENLGL             1\n",
       "PAYQTR1_N          1\n",
       "PAYQTR1            1\n",
       "PAYANN_N           1\n",
       "PAYANN             1\n",
       "RCPTOT_N           1\n",
       "RCPTOT             1\n",
       "ESTAB              1\n",
       "YEAR               1\n",
       "NAICS2017_F        1\n",
       "NAICS2017_LABEL    1\n",
       "NAICS2017          1\n",
       "EMP_IMP            1\n",
       "Name: GEO_ID, dtype: int64"
      ]
     },
     "execution_count": 17,
     "metadata": {},
     "output_type": "execute_result"
    }
   ],
   "source": [
    "#save output as variable\n",
    "GEO_ID= islands['GEO_ID'].value_counts()\n",
    "GEO_ID"
   ]
  },
  {
   "cell_type": "markdown",
   "id": "22a4b4ad-d217-463e-bc9f-bdfc3ab32922",
   "metadata": {},
   "source": [
    "So on this one, I just converted the past output into its own variable to use later."
   ]
  },
  {
   "cell_type": "code",
   "execution_count": 18,
   "id": "6c931034-4f28-4b8e-a0d7-6ef3cf38db8b",
   "metadata": {},
   "outputs": [
    {
     "data": {
      "text/plain": [
       "pandas.core.series.Series"
      ]
     },
     "execution_count": 18,
     "metadata": {},
     "output_type": "execute_result"
    }
   ],
   "source": [
    "#what type of variable is this new variable?\n",
    "type(GEO_ID)"
   ]
  },
  {
   "cell_type": "markdown",
   "id": "1f3614c3-34fd-49fe-9dbe-81102d46cd88",
   "metadata": {},
   "source": [
    "this converted by data into a series, that now I want to convert to a dataframe."
   ]
  },
  {
   "cell_type": "code",
   "execution_count": 19,
   "id": "52947afa-615f-43b0-85d6-667fe673df2d",
   "metadata": {},
   "outputs": [
    {
     "data": {
      "text/html": [
       "<div>\n",
       "<style scoped>\n",
       "    .dataframe tbody tr th:only-of-type {\n",
       "        vertical-align: middle;\n",
       "    }\n",
       "\n",
       "    .dataframe tbody tr th {\n",
       "        vertical-align: top;\n",
       "    }\n",
       "\n",
       "    .dataframe thead th {\n",
       "        text-align: right;\n",
       "    }\n",
       "</style>\n",
       "<table border=\"1\" class=\"dataframe\">\n",
       "  <thead>\n",
       "    <tr style=\"text-align: right;\">\n",
       "      <th></th>\n",
       "      <th>index</th>\n",
       "      <th>GEO_ID</th>\n",
       "    </tr>\n",
       "  </thead>\n",
       "  <tbody>\n",
       "    <tr>\n",
       "      <th>0</th>\n",
       "      <td>NAME</td>\n",
       "      <td>1</td>\n",
       "    </tr>\n",
       "    <tr>\n",
       "      <th>1</th>\n",
       "      <td>GEO_ID_F</td>\n",
       "      <td>1</td>\n",
       "    </tr>\n",
       "    <tr>\n",
       "      <th>2</th>\n",
       "      <td>PAYANN_IMP</td>\n",
       "      <td>1</td>\n",
       "    </tr>\n",
       "    <tr>\n",
       "      <th>3</th>\n",
       "      <td>RCPTOT_IMP</td>\n",
       "      <td>1</td>\n",
       "    </tr>\n",
       "    <tr>\n",
       "      <th>4</th>\n",
       "      <td>INVTOTE_N</td>\n",
       "      <td>1</td>\n",
       "    </tr>\n",
       "    <tr>\n",
       "      <th>5</th>\n",
       "      <td>INVTOTE</td>\n",
       "      <td>1</td>\n",
       "    </tr>\n",
       "    <tr>\n",
       "      <th>6</th>\n",
       "      <td>INVTOTB_N</td>\n",
       "      <td>1</td>\n",
       "    </tr>\n",
       "    <tr>\n",
       "      <th>7</th>\n",
       "      <td>INVTOTB</td>\n",
       "      <td>1</td>\n",
       "    </tr>\n",
       "    <tr>\n",
       "      <th>8</th>\n",
       "      <td>OPEX_N</td>\n",
       "      <td>1</td>\n",
       "    </tr>\n",
       "    <tr>\n",
       "      <th>9</th>\n",
       "      <td>OPEX</td>\n",
       "      <td>1</td>\n",
       "    </tr>\n",
       "    <tr>\n",
       "      <th>10</th>\n",
       "      <td>EMP_N</td>\n",
       "      <td>1</td>\n",
       "    </tr>\n",
       "    <tr>\n",
       "      <th>11</th>\n",
       "      <td>EMP</td>\n",
       "      <td>1</td>\n",
       "    </tr>\n",
       "    <tr>\n",
       "      <th>12</th>\n",
       "      <td>BENVOL_N</td>\n",
       "      <td>1</td>\n",
       "    </tr>\n",
       "    <tr>\n",
       "      <th>13</th>\n",
       "      <td>BENVOL</td>\n",
       "      <td>1</td>\n",
       "    </tr>\n",
       "    <tr>\n",
       "      <th>14</th>\n",
       "      <td>BENLGL_N</td>\n",
       "      <td>1</td>\n",
       "    </tr>\n",
       "    <tr>\n",
       "      <th>15</th>\n",
       "      <td>BENLGL</td>\n",
       "      <td>1</td>\n",
       "    </tr>\n",
       "    <tr>\n",
       "      <th>16</th>\n",
       "      <td>PAYQTR1_N</td>\n",
       "      <td>1</td>\n",
       "    </tr>\n",
       "    <tr>\n",
       "      <th>17</th>\n",
       "      <td>PAYQTR1</td>\n",
       "      <td>1</td>\n",
       "    </tr>\n",
       "    <tr>\n",
       "      <th>18</th>\n",
       "      <td>PAYANN_N</td>\n",
       "      <td>1</td>\n",
       "    </tr>\n",
       "    <tr>\n",
       "      <th>19</th>\n",
       "      <td>PAYANN</td>\n",
       "      <td>1</td>\n",
       "    </tr>\n",
       "    <tr>\n",
       "      <th>20</th>\n",
       "      <td>RCPTOT_N</td>\n",
       "      <td>1</td>\n",
       "    </tr>\n",
       "    <tr>\n",
       "      <th>21</th>\n",
       "      <td>RCPTOT</td>\n",
       "      <td>1</td>\n",
       "    </tr>\n",
       "    <tr>\n",
       "      <th>22</th>\n",
       "      <td>ESTAB</td>\n",
       "      <td>1</td>\n",
       "    </tr>\n",
       "    <tr>\n",
       "      <th>23</th>\n",
       "      <td>YEAR</td>\n",
       "      <td>1</td>\n",
       "    </tr>\n",
       "    <tr>\n",
       "      <th>24</th>\n",
       "      <td>NAICS2017_F</td>\n",
       "      <td>1</td>\n",
       "    </tr>\n",
       "    <tr>\n",
       "      <th>25</th>\n",
       "      <td>NAICS2017_LABEL</td>\n",
       "      <td>1</td>\n",
       "    </tr>\n",
       "    <tr>\n",
       "      <th>26</th>\n",
       "      <td>NAICS2017</td>\n",
       "      <td>1</td>\n",
       "    </tr>\n",
       "    <tr>\n",
       "      <th>27</th>\n",
       "      <td>EMP_IMP</td>\n",
       "      <td>1</td>\n",
       "    </tr>\n",
       "  </tbody>\n",
       "</table>\n",
       "</div>"
      ],
      "text/plain": [
       "              index  GEO_ID\n",
       "0              NAME       1\n",
       "1          GEO_ID_F       1\n",
       "2        PAYANN_IMP       1\n",
       "3        RCPTOT_IMP       1\n",
       "4         INVTOTE_N       1\n",
       "5           INVTOTE       1\n",
       "6         INVTOTB_N       1\n",
       "7           INVTOTB       1\n",
       "8            OPEX_N       1\n",
       "9              OPEX       1\n",
       "10            EMP_N       1\n",
       "11              EMP       1\n",
       "12         BENVOL_N       1\n",
       "13           BENVOL       1\n",
       "14         BENLGL_N       1\n",
       "15           BENLGL       1\n",
       "16        PAYQTR1_N       1\n",
       "17          PAYQTR1       1\n",
       "18         PAYANN_N       1\n",
       "19           PAYANN       1\n",
       "20         RCPTOT_N       1\n",
       "21           RCPTOT       1\n",
       "22            ESTAB       1\n",
       "23             YEAR       1\n",
       "24      NAICS2017_F       1\n",
       "25  NAICS2017_LABEL       1\n",
       "26        NAICS2017       1\n",
       "27          EMP_IMP       1"
      ]
     },
     "execution_count": 19,
     "metadata": {},
     "output_type": "execute_result"
    }
   ],
   "source": [
    "#converting it into dataframe\n",
    "GEO_ID = GEO_ID.reset_index()\n",
    "GEO_ID"
   ]
  },
  {
   "cell_type": "markdown",
   "id": "b7856e63-b1b8-4925-8031-758399cd19cf",
   "metadata": {},
   "source": [
    "makes it look like a table"
   ]
  },
  {
   "cell_type": "code",
   "execution_count": 20,
   "id": "866a2313-db25-4e87-87c0-bb490a5aea69",
   "metadata": {},
   "outputs": [
    {
     "data": {
      "text/plain": [
       "pandas.core.frame.DataFrame"
      ]
     },
     "execution_count": 20,
     "metadata": {},
     "output_type": "execute_result"
    }
   ],
   "source": [
    "type(GEO_ID)"
   ]
  },
  {
   "cell_type": "code",
   "execution_count": 21,
   "id": "a4b952ea-c900-4dd3-8940-7fc3d1a525b6",
   "metadata": {},
   "outputs": [
    {
     "data": {
      "text/plain": [
       "['index', 'GEO_ID']"
      ]
     },
     "execution_count": 21,
     "metadata": {},
     "output_type": "execute_result"
    }
   ],
   "source": [
    "#make current columns as list\n",
    "GEO_ID.columns.to_list()"
   ]
  },
  {
   "cell_type": "code",
   "execution_count": 22,
   "id": "faf8807d-6346-4f72-a50f-7d3242a4ea11",
   "metadata": {},
   "outputs": [],
   "source": [
    "GEO_ID.columns= ['GEO_ID', 'index']"
   ]
  },
  {
   "cell_type": "code",
   "execution_count": 24,
   "id": "d860116a-1941-4d44-95a3-b144e6eb13a0",
   "metadata": {},
   "outputs": [
    {
     "data": {
      "text/plain": [
       "<AxesSubplot:>"
      ]
     },
     "execution_count": 24,
     "metadata": {},
     "output_type": "execute_result"
    },
    {
     "data": {
      "image/png": "[encoded data removed]",
      "text/plain": [
       "<Figure size 432x288 with 1 Axes>"
      ]
     },
     "metadata": {
      "needs_background": "light"
     },
     "output_type": "display_data"
    }
   ],
   "source": [
    "GEO_ID.plot()"
   ]
  },
  {
   "cell_type": "markdown",
   "id": "50617407-c69e-46f1-a770-dd1b56e0402e",
   "metadata": {},
   "source": [
    "this is clearly not a good graph for this nominal data. I might try pie chart?"
   ]
  },
  {
   "cell_type": "code",
   "execution_count": 27,
   "id": "61aabc03-453f-4913-b040-39507edacdfe",
   "metadata": {
    "tags": []
   },
   "outputs": [
    {
     "ename": "ValueError",
     "evalue": "pie requires either y column or 'subplots=True'",
     "output_type": "error",
     "traceback": [
      "\u001b[0;31m---------------------------------------------------------------------------\u001b[0m",
      "\u001b[0;31mValueError\u001b[0m                                Traceback (most recent call last)",
      "\u001b[0;32m/tmp/ipykernel_928/1679284515.py\u001b[0m in \u001b[0;36m<module>\u001b[0;34m\u001b[0m\n\u001b[0;32m----> 1\u001b[0;31m \u001b[0mGEO_ID\u001b[0m\u001b[0;34m.\u001b[0m\u001b[0mplot\u001b[0m\u001b[0;34m.\u001b[0m\u001b[0mpie\u001b[0m\u001b[0;34m(\u001b[0m\u001b[0;34m)\u001b[0m\u001b[0;34m\u001b[0m\u001b[0;34m\u001b[0m\u001b[0m\n\u001b[0m",
      "\u001b[0;32m/opt/conda/lib/python3.9/site-packages/pandas/plotting/_core.py\u001b[0m in \u001b[0;36mpie\u001b[0;34m(self, **kwargs)\u001b[0m\n\u001b[1;32m   1548\u001b[0m             \u001b[0;32mand\u001b[0m \u001b[0;32mnot\u001b[0m \u001b[0mkwargs\u001b[0m\u001b[0;34m.\u001b[0m\u001b[0mget\u001b[0m\u001b[0;34m(\u001b[0m\u001b[0;34m\"subplots\"\u001b[0m\u001b[0;34m,\u001b[0m \u001b[0;32mFalse\u001b[0m\u001b[0;34m)\u001b[0m\u001b[0;34m\u001b[0m\u001b[0;34m\u001b[0m\u001b[0m\n\u001b[1;32m   1549\u001b[0m         ):\n\u001b[0;32m-> 1550\u001b[0;31m             \u001b[0;32mraise\u001b[0m \u001b[0mValueError\u001b[0m\u001b[0;34m(\u001b[0m\u001b[0;34m\"pie requires either y column or 'subplots=True'\"\u001b[0m\u001b[0;34m)\u001b[0m\u001b[0;34m\u001b[0m\u001b[0;34m\u001b[0m\u001b[0m\n\u001b[0m\u001b[1;32m   1551\u001b[0m         \u001b[0;32mreturn\u001b[0m \u001b[0mself\u001b[0m\u001b[0;34m(\u001b[0m\u001b[0mkind\u001b[0m\u001b[0;34m=\u001b[0m\u001b[0;34m\"pie\"\u001b[0m\u001b[0;34m,\u001b[0m \u001b[0;34m**\u001b[0m\u001b[0mkwargs\u001b[0m\u001b[0;34m)\u001b[0m\u001b[0;34m\u001b[0m\u001b[0;34m\u001b[0m\u001b[0m\n\u001b[1;32m   1552\u001b[0m \u001b[0;34m\u001b[0m\u001b[0m\n",
      "\u001b[0;31mValueError\u001b[0m: pie requires either y column or 'subplots=True'"
     ]
    }
   ],
   "source": [
    "GEO_ID.plot.pie()"
   ]
  },
  {
   "cell_type": "markdown",
   "id": "176d025f-6a45-4ea5-bddd-bf8c3580024d",
   "metadata": {},
   "source": [
    "so this didn't work... I honestly don't know how to make a graph that makes sense here."
   ]
  },
  {
   "cell_type": "code",
   "execution_count": 30,
   "id": "e3846e6c-35e9-40ad-9d86-5b60b3f81d98",
   "metadata": {},
   "outputs": [
    {
     "data": {
      "text/plain": [
       "<AxesSubplot:title={'center':'island and value?'}, xlabel='GEO_ID'>"
      ]
     },
     "execution_count": 30,
     "metadata": {},
     "output_type": "execute_result"
    },
    {
     "data": {
      "image/png": "[encoded data removed]",
      "text/plain": [
       "<Figure size 432x288 with 1 Axes>"
      ]
     },
     "metadata": {
      "needs_background": "light"
     },
     "output_type": "display_data"
    }
   ],
   "source": [
    "GEO_ID.plot.bar(x = 'GEO_ID', y = 'index', title = 'island and value?')"
   ]
  },
  {
   "cell_type": "markdown",
   "id": "2b24e795-1d75-4466-bd75-6cbe55ea83e1",
   "metadata": {},
   "source": [
    "again, this is not a good representation of my data..."
   ]
  },
  {
   "cell_type": "code",
   "execution_count": 33,
   "id": "266996bb-953d-4b41-9449-abe97bbecc73",
   "metadata": {},
   "outputs": [
    {
     "name": "stdout",
     "output_type": "stream",
     "text": [
      "<class 'geopandas.geodataframe.GeoDataFrame'>\n",
      "RangeIndex: 28 entries, 0 to 27\n",
      "Data columns (total 3 columns):\n",
      " #   Column    Non-Null Count  Dtype   \n",
      "---  ------    --------------  -----   \n",
      " 0   GEO_ID    28 non-null     object  \n",
      " 1   id        28 non-null     object  \n",
      " 2   geometry  0 non-null      geometry\n",
      "dtypes: geometry(1), object(2)\n",
      "memory usage: 800.0+ bytes\n"
     ]
    }
   ],
   "source": [
    "islands.info()"
   ]
  },
  {
   "cell_type": "code",
   "execution_count": 34,
   "id": "a8cd2eea-fa7d-4b47-a313-1c0329e44ad5",
   "metadata": {},
   "outputs": [
    {
     "data": {
      "text/html": [
       "<div>\n",
       "<style scoped>\n",
       "    .dataframe tbody tr th:only-of-type {\n",
       "        vertical-align: middle;\n",
       "    }\n",
       "\n",
       "    .dataframe tbody tr th {\n",
       "        vertical-align: top;\n",
       "    }\n",
       "\n",
       "    .dataframe thead th {\n",
       "        text-align: right;\n",
       "    }\n",
       "</style>\n",
       "<table border=\"1\" class=\"dataframe\">\n",
       "  <thead>\n",
       "    <tr style=\"text-align: right;\">\n",
       "      <th></th>\n",
       "      <th>GEO_ID</th>\n",
       "      <th>geometry</th>\n",
       "    </tr>\n",
       "  </thead>\n",
       "  <tbody>\n",
       "    <tr>\n",
       "      <th>0</th>\n",
       "      <td>NAME</td>\n",
       "      <td>None</td>\n",
       "    </tr>\n",
       "    <tr>\n",
       "      <th>1</th>\n",
       "      <td>GEO_ID_F</td>\n",
       "      <td>None</td>\n",
       "    </tr>\n",
       "    <tr>\n",
       "      <th>2</th>\n",
       "      <td>NAICS2017</td>\n",
       "      <td>None</td>\n",
       "    </tr>\n",
       "    <tr>\n",
       "      <th>3</th>\n",
       "      <td>NAICS2017_LABEL</td>\n",
       "      <td>None</td>\n",
       "    </tr>\n",
       "    <tr>\n",
       "      <th>4</th>\n",
       "      <td>NAICS2017_F</td>\n",
       "      <td>None</td>\n",
       "    </tr>\n",
       "    <tr>\n",
       "      <th>5</th>\n",
       "      <td>YEAR</td>\n",
       "      <td>None</td>\n",
       "    </tr>\n",
       "    <tr>\n",
       "      <th>6</th>\n",
       "      <td>ESTAB</td>\n",
       "      <td>None</td>\n",
       "    </tr>\n",
       "    <tr>\n",
       "      <th>7</th>\n",
       "      <td>RCPTOT</td>\n",
       "      <td>None</td>\n",
       "    </tr>\n",
       "    <tr>\n",
       "      <th>8</th>\n",
       "      <td>RCPTOT_N</td>\n",
       "      <td>None</td>\n",
       "    </tr>\n",
       "    <tr>\n",
       "      <th>9</th>\n",
       "      <td>PAYANN</td>\n",
       "      <td>None</td>\n",
       "    </tr>\n",
       "    <tr>\n",
       "      <th>10</th>\n",
       "      <td>PAYANN_N</td>\n",
       "      <td>None</td>\n",
       "    </tr>\n",
       "    <tr>\n",
       "      <th>11</th>\n",
       "      <td>PAYQTR1</td>\n",
       "      <td>None</td>\n",
       "    </tr>\n",
       "    <tr>\n",
       "      <th>12</th>\n",
       "      <td>PAYQTR1_N</td>\n",
       "      <td>None</td>\n",
       "    </tr>\n",
       "    <tr>\n",
       "      <th>13</th>\n",
       "      <td>BENLGL</td>\n",
       "      <td>None</td>\n",
       "    </tr>\n",
       "    <tr>\n",
       "      <th>14</th>\n",
       "      <td>BENLGL_N</td>\n",
       "      <td>None</td>\n",
       "    </tr>\n",
       "    <tr>\n",
       "      <th>15</th>\n",
       "      <td>BENVOL</td>\n",
       "      <td>None</td>\n",
       "    </tr>\n",
       "    <tr>\n",
       "      <th>16</th>\n",
       "      <td>BENVOL_N</td>\n",
       "      <td>None</td>\n",
       "    </tr>\n",
       "    <tr>\n",
       "      <th>17</th>\n",
       "      <td>EMP</td>\n",
       "      <td>None</td>\n",
       "    </tr>\n",
       "    <tr>\n",
       "      <th>18</th>\n",
       "      <td>EMP_N</td>\n",
       "      <td>None</td>\n",
       "    </tr>\n",
       "    <tr>\n",
       "      <th>19</th>\n",
       "      <td>OPEX</td>\n",
       "      <td>None</td>\n",
       "    </tr>\n",
       "    <tr>\n",
       "      <th>20</th>\n",
       "      <td>OPEX_N</td>\n",
       "      <td>None</td>\n",
       "    </tr>\n",
       "    <tr>\n",
       "      <th>21</th>\n",
       "      <td>INVTOTB</td>\n",
       "      <td>None</td>\n",
       "    </tr>\n",
       "    <tr>\n",
       "      <th>22</th>\n",
       "      <td>INVTOTB_N</td>\n",
       "      <td>None</td>\n",
       "    </tr>\n",
       "    <tr>\n",
       "      <th>23</th>\n",
       "      <td>INVTOTE</td>\n",
       "      <td>None</td>\n",
       "    </tr>\n",
       "    <tr>\n",
       "      <th>24</th>\n",
       "      <td>INVTOTE_N</td>\n",
       "      <td>None</td>\n",
       "    </tr>\n",
       "    <tr>\n",
       "      <th>25</th>\n",
       "      <td>RCPTOT_IMP</td>\n",
       "      <td>None</td>\n",
       "    </tr>\n",
       "    <tr>\n",
       "      <th>26</th>\n",
       "      <td>PAYANN_IMP</td>\n",
       "      <td>None</td>\n",
       "    </tr>\n",
       "    <tr>\n",
       "      <th>27</th>\n",
       "      <td>EMP_IMP</td>\n",
       "      <td>None</td>\n",
       "    </tr>\n",
       "  </tbody>\n",
       "</table>\n",
       "</div>"
      ],
      "text/plain": [
       "             GEO_ID geometry\n",
       "0              NAME     None\n",
       "1          GEO_ID_F     None\n",
       "2         NAICS2017     None\n",
       "3   NAICS2017_LABEL     None\n",
       "4       NAICS2017_F     None\n",
       "5              YEAR     None\n",
       "6             ESTAB     None\n",
       "7            RCPTOT     None\n",
       "8          RCPTOT_N     None\n",
       "9            PAYANN     None\n",
       "10         PAYANN_N     None\n",
       "11          PAYQTR1     None\n",
       "12        PAYQTR1_N     None\n",
       "13           BENLGL     None\n",
       "14         BENLGL_N     None\n",
       "15           BENVOL     None\n",
       "16         BENVOL_N     None\n",
       "17              EMP     None\n",
       "18            EMP_N     None\n",
       "19             OPEX     None\n",
       "20           OPEX_N     None\n",
       "21          INVTOTB     None\n",
       "22        INVTOTB_N     None\n",
       "23          INVTOTE     None\n",
       "24        INVTOTE_N     None\n",
       "25       RCPTOT_IMP     None\n",
       "26       PAYANN_IMP     None\n",
       "27          EMP_IMP     None"
      ]
     },
     "execution_count": 34,
     "metadata": {},
     "output_type": "execute_result"
    }
   ],
   "source": [
    "#show a dataframe with a subset of columns\n",
    "islands[['GEO_ID', 'geometry']]"
   ]
  },
  {
   "cell_type": "code",
   "execution_count": 38,
   "id": "87787aa3-fd3c-445b-b3b8-dfde36c3eb8b",
   "metadata": {},
   "outputs": [
    {
     "data": {
      "text/html": [
       "<div>\n",
       "<style scoped>\n",
       "    .dataframe tbody tr th:only-of-type {\n",
       "        vertical-align: middle;\n",
       "    }\n",
       "\n",
       "    .dataframe tbody tr th {\n",
       "        vertical-align: top;\n",
       "    }\n",
       "\n",
       "    .dataframe thead th {\n",
       "        text-align: right;\n",
       "    }\n",
       "</style>\n",
       "<table border=\"1\" class=\"dataframe\">\n",
       "  <thead>\n",
       "    <tr style=\"text-align: right;\">\n",
       "      <th></th>\n",
       "      <th>id</th>\n",
       "      <th>geometry</th>\n",
       "    </tr>\n",
       "  </thead>\n",
       "  <tbody>\n",
       "    <tr>\n",
       "      <th>16</th>\n",
       "      <td>Noise range for employers cost for voluntarily...</td>\n",
       "      <td>None</td>\n",
       "    </tr>\n",
       "    <tr>\n",
       "      <th>22</th>\n",
       "      <td>Noise range for total inventories, beginning o...</td>\n",
       "      <td>None</td>\n",
       "    </tr>\n",
       "    <tr>\n",
       "      <th>18</th>\n",
       "      <td>Noise range for number of employees</td>\n",
       "      <td>None</td>\n",
       "    </tr>\n",
       "    <tr>\n",
       "      <th>1</th>\n",
       "      <td>Geo Footnote</td>\n",
       "      <td>None</td>\n",
       "    </tr>\n",
       "    <tr>\n",
       "      <th>9</th>\n",
       "      <td>Annual payroll ($1,000)</td>\n",
       "      <td>None</td>\n",
       "    </tr>\n",
       "  </tbody>\n",
       "</table>\n",
       "</div>"
      ],
      "text/plain": [
       "                                                   id geometry\n",
       "16  Noise range for employers cost for voluntarily...     None\n",
       "22  Noise range for total inventories, beginning o...     None\n",
       "18                Noise range for number of employees     None\n",
       "1                                        Geo Footnote     None\n",
       "9                             Annual payroll ($1,000)     None"
      ]
     },
     "execution_count": 38,
     "metadata": {},
     "output_type": "execute_result"
    }
   ],
   "source": [
    "islands[['id', 'geometry']]\n",
    "desired_columns= ['id', 'geometry']\n",
    "islands[desired_columns].sample(5)"
   ]
  },
  {
   "cell_type": "code",
   "execution_count": 40,
   "id": "750d2eef-0c7c-4d98-a938-ff083288c7dc",
   "metadata": {},
   "outputs": [],
   "source": [
    "islands_trimmed = islands[desired_columns].copy() "
   ]
  },
  {
   "cell_type": "code",
   "execution_count": 41,
   "id": "2235a15f-5a0f-487e-89ca-0e742fbc6315",
   "metadata": {},
   "outputs": [
    {
     "data": {
      "text/html": [
       "<div>\n",
       "<style scoped>\n",
       "    .dataframe tbody tr th:only-of-type {\n",
       "        vertical-align: middle;\n",
       "    }\n",
       "\n",
       "    .dataframe tbody tr th {\n",
       "        vertical-align: top;\n",
       "    }\n",
       "\n",
       "    .dataframe thead th {\n",
       "        text-align: right;\n",
       "    }\n",
       "</style>\n",
       "<table border=\"1\" class=\"dataframe\">\n",
       "  <thead>\n",
       "    <tr style=\"text-align: right;\">\n",
       "      <th></th>\n",
       "      <th>id</th>\n",
       "      <th>geometry</th>\n",
       "    </tr>\n",
       "  </thead>\n",
       "  <tbody>\n",
       "    <tr>\n",
       "      <th>0</th>\n",
       "      <td>Geographic Area Name</td>\n",
       "      <td>None</td>\n",
       "    </tr>\n",
       "    <tr>\n",
       "      <th>1</th>\n",
       "      <td>Geo Footnote</td>\n",
       "      <td>None</td>\n",
       "    </tr>\n",
       "    <tr>\n",
       "      <th>2</th>\n",
       "      <td>2017 NAICS code</td>\n",
       "      <td>None</td>\n",
       "    </tr>\n",
       "    <tr>\n",
       "      <th>3</th>\n",
       "      <td>Meaning of NAICS code</td>\n",
       "      <td>None</td>\n",
       "    </tr>\n",
       "    <tr>\n",
       "      <th>4</th>\n",
       "      <td>2017 NAICS Footnote</td>\n",
       "      <td>None</td>\n",
       "    </tr>\n",
       "    <tr>\n",
       "      <th>5</th>\n",
       "      <td>Year</td>\n",
       "      <td>None</td>\n",
       "    </tr>\n",
       "    <tr>\n",
       "      <th>6</th>\n",
       "      <td>Number of establishments</td>\n",
       "      <td>None</td>\n",
       "    </tr>\n",
       "    <tr>\n",
       "      <th>7</th>\n",
       "      <td>Sales, value of shipments, or revenue ($1,000)</td>\n",
       "      <td>None</td>\n",
       "    </tr>\n",
       "    <tr>\n",
       "      <th>8</th>\n",
       "      <td>Noise range for sales, value of shipments, or ...</td>\n",
       "      <td>None</td>\n",
       "    </tr>\n",
       "    <tr>\n",
       "      <th>9</th>\n",
       "      <td>Annual payroll ($1,000)</td>\n",
       "      <td>None</td>\n",
       "    </tr>\n",
       "    <tr>\n",
       "      <th>10</th>\n",
       "      <td>Noise range for annual payroll</td>\n",
       "      <td>None</td>\n",
       "    </tr>\n",
       "    <tr>\n",
       "      <th>11</th>\n",
       "      <td>First-quarter payroll ($1,000)</td>\n",
       "      <td>None</td>\n",
       "    </tr>\n",
       "    <tr>\n",
       "      <th>12</th>\n",
       "      <td>Noise range for first-quarter payroll</td>\n",
       "      <td>None</td>\n",
       "    </tr>\n",
       "    <tr>\n",
       "      <th>13</th>\n",
       "      <td>Employers cost for legally required fringe ben...</td>\n",
       "      <td>None</td>\n",
       "    </tr>\n",
       "    <tr>\n",
       "      <th>14</th>\n",
       "      <td>Noise range for employer's cost for legally re...</td>\n",
       "      <td>None</td>\n",
       "    </tr>\n",
       "    <tr>\n",
       "      <th>15</th>\n",
       "      <td>Employers cost for voluntarily provided fringe...</td>\n",
       "      <td>None</td>\n",
       "    </tr>\n",
       "    <tr>\n",
       "      <th>16</th>\n",
       "      <td>Noise range for employers cost for voluntarily...</td>\n",
       "      <td>None</td>\n",
       "    </tr>\n",
       "    <tr>\n",
       "      <th>17</th>\n",
       "      <td>Number of employees</td>\n",
       "      <td>None</td>\n",
       "    </tr>\n",
       "    <tr>\n",
       "      <th>18</th>\n",
       "      <td>Noise range for number of employees</td>\n",
       "      <td>None</td>\n",
       "    </tr>\n",
       "    <tr>\n",
       "      <th>19</th>\n",
       "      <td>Operating expenses ($1,000)</td>\n",
       "      <td>None</td>\n",
       "    </tr>\n",
       "    <tr>\n",
       "      <th>20</th>\n",
       "      <td>Noise range for operating expenses</td>\n",
       "      <td>None</td>\n",
       "    </tr>\n",
       "    <tr>\n",
       "      <th>21</th>\n",
       "      <td>Total inventories, beginning of year ($1,000)</td>\n",
       "      <td>None</td>\n",
       "    </tr>\n",
       "    <tr>\n",
       "      <th>22</th>\n",
       "      <td>Noise range for total inventories, beginning o...</td>\n",
       "      <td>None</td>\n",
       "    </tr>\n",
       "    <tr>\n",
       "      <th>23</th>\n",
       "      <td>Total inventories, end of year ($1,000)</td>\n",
       "      <td>None</td>\n",
       "    </tr>\n",
       "    <tr>\n",
       "      <th>24</th>\n",
       "      <td>Noise range for total inventories, end of year</td>\n",
       "      <td>None</td>\n",
       "    </tr>\n",
       "    <tr>\n",
       "      <th>25</th>\n",
       "      <td>Range indicating percent of total sales, value...</td>\n",
       "      <td>None</td>\n",
       "    </tr>\n",
       "    <tr>\n",
       "      <th>26</th>\n",
       "      <td>Range indicating percent of total annual payro...</td>\n",
       "      <td>None</td>\n",
       "    </tr>\n",
       "    <tr>\n",
       "      <th>27</th>\n",
       "      <td>Range indicating percent of total employees im...</td>\n",
       "      <td>None</td>\n",
       "    </tr>\n",
       "  </tbody>\n",
       "</table>\n",
       "</div>"
      ],
      "text/plain": [
       "                                                   id geometry\n",
       "0                                Geographic Area Name     None\n",
       "1                                        Geo Footnote     None\n",
       "2                                     2017 NAICS code     None\n",
       "3                               Meaning of NAICS code     None\n",
       "4                                 2017 NAICS Footnote     None\n",
       "5                                                Year     None\n",
       "6                            Number of establishments     None\n",
       "7      Sales, value of shipments, or revenue ($1,000)     None\n",
       "8   Noise range for sales, value of shipments, or ...     None\n",
       "9                             Annual payroll ($1,000)     None\n",
       "10                     Noise range for annual payroll     None\n",
       "11                     First-quarter payroll ($1,000)     None\n",
       "12              Noise range for first-quarter payroll     None\n",
       "13  Employers cost for legally required fringe ben...     None\n",
       "14  Noise range for employer's cost for legally re...     None\n",
       "15  Employers cost for voluntarily provided fringe...     None\n",
       "16  Noise range for employers cost for voluntarily...     None\n",
       "17                                Number of employees     None\n",
       "18                Noise range for number of employees     None\n",
       "19                        Operating expenses ($1,000)     None\n",
       "20                Noise range for operating expenses      None\n",
       "21      Total inventories, beginning of year ($1,000)     None\n",
       "22  Noise range for total inventories, beginning o...     None\n",
       "23            Total inventories, end of year ($1,000)     None\n",
       "24    Noise range for total inventories, end of year      None\n",
       "25  Range indicating percent of total sales, value...     None\n",
       "26  Range indicating percent of total annual payro...     None\n",
       "27  Range indicating percent of total employees im...     None"
      ]
     },
     "execution_count": 41,
     "metadata": {},
     "output_type": "execute_result"
    }
   ],
   "source": [
    "islands_trimmed"
   ]
  },
  {
   "cell_type": "code",
   "execution_count": 44,
   "id": "a6e801b7-0191-40ac-85f9-505db5a3bb87",
   "metadata": {},
   "outputs": [
    {
     "data": {
      "text/html": [
       "<div>\n",
       "<style scoped>\n",
       "    .dataframe tbody tr th:only-of-type {\n",
       "        vertical-align: middle;\n",
       "    }\n",
       "\n",
       "    .dataframe tbody tr th {\n",
       "        vertical-align: top;\n",
       "    }\n",
       "\n",
       "    .dataframe thead th {\n",
       "        text-align: right;\n",
       "    }\n",
       "</style>\n",
       "<table border=\"1\" class=\"dataframe\">\n",
       "  <thead>\n",
       "    <tr style=\"text-align: right;\">\n",
       "      <th></th>\n",
       "      <th>id</th>\n",
       "      <th>geometry</th>\n",
       "    </tr>\n",
       "  </thead>\n",
       "  <tbody>\n",
       "    <tr>\n",
       "      <th>5</th>\n",
       "      <td>Year</td>\n",
       "      <td>None</td>\n",
       "    </tr>\n",
       "  </tbody>\n",
       "</table>\n",
       "</div>"
      ],
      "text/plain": [
       "     id geometry\n",
       "5  Year     None"
      ]
     },
     "execution_count": 44,
     "metadata": {},
     "output_type": "execute_result"
    }
   ],
   "source": [
    "islands_trimmed[islands_trimmed.id =='Year']"
   ]
  },
  {
   "cell_type": "code",
   "execution_count": 45,
   "id": "e0d75211-67d9-4248-849e-90081ccdce07",
   "metadata": {},
   "outputs": [
    {
     "data": {
      "text/plain": [
       "<AxesSubplot:>"
      ]
     },
     "execution_count": 45,
     "metadata": {},
     "output_type": "execute_result"
    },
    {
     "data": {
      "image/png": "[encoded data removed]",
      "text/plain": [
       "<Figure size 432x288 with 1 Axes>"
      ]
     },
     "metadata": {
      "needs_background": "light"
     },
     "output_type": "display_data"
    }
   ],
   "source": [
    "islands_trimmed.plot()"
   ]
  },
  {
   "cell_type": "markdown",
   "id": "23baec89-a513-4593-a68f-702ac9e7e340",
   "metadata": {},
   "source": [
    "I don't understand why if it has geometry, it's not plotting?"
   ]
  },
  {
   "cell_type": "markdown",
   "id": "d23ae79e-eaf0-4ec0-b338-81e1d3507b5b",
   "metadata": {},
   "source": [
    "I think there is some step I missed--maybe having to do with latitude, longitude?"
   ]
  },
  {
   "cell_type": "markdown",
   "id": "81600a1f-8b5c-4b27-abbe-aa2debb7773c",
   "metadata": {},
   "source": [
    "While I wasn't able to create a map, it was cool to revise everything from scratch! "
   ]
  },
  {
   "cell_type": "code",
   "execution_count": null,
   "id": "ba4f32e8-745f-43c3-ae70-1df5b91f2008",
   "metadata": {},
   "outputs": [],
   "source": []
  }
 ],
 "metadata": {
  "kernelspec": {
   "display_name": "Python 3 (ipykernel)",
   "language": "python",
   "name": "python3"
  },
  "language_info": {
   "codemirror_mode": {
    "name": "ipython",
    "version": 3
   },
   "file_extension": ".py",
   "mimetype": "text/x-python",
   "name": "python",
   "nbconvert_exporter": "python",
   "pygments_lexer": "ipython3",
   "version": "3.9.6"
  }
 },
 "nbformat": 4,
 "nbformat_minor": 5
}
